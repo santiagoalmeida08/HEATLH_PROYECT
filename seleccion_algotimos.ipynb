{
 "cells": [
  {
   "cell_type": "markdown",
   "metadata": {},
   "source": [
    "**Selección de algoritmos**"
   ]
  },
  {
   "cell_type": "markdown",
   "metadata": {},
   "source": [
    "Para atender la anterior problemática se busca predecir el reingreso de los pacientes mediante el uso de  los siguientes algoritmos: \n",
    "\n",
    "- **Árboles de decisión** : Su facilidad de interpretación nos permite determinar la causa raíz, con esto se puede elaborar estrategias más eficientes.\n",
    "- **Regresión Logística** : Se tendra en cuenta ya que es un modelo facil de interpretar y que al igual que los árboles de decisión funciona para crear estrategias en base a las variables mas representativas.  \n",
    "- **Random Forest** : Este modelo tiene un gran rendimiento computacional, pero se dificulta su interpretabilidad lo cual le quita puntos a la hora de establecer estrategias, por lo cual se tomara el analisis exploratorio como base para entender de mejor manera dichos modelos. \n",
    "\n",
    "\n"
   ]
  }
 ],
 "metadata": {
  "language_info": {
   "name": "python"
  }
 },
 "nbformat": 4,
 "nbformat_minor": 2
}
