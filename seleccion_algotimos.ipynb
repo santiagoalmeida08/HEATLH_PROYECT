{
 "cells": [
  {
   "cell_type": "markdown",
   "metadata": {},
   "source": [
    "**Selección de algoritmos**"
   ]
  },
  {
   "cell_type": "markdown",
   "metadata": {},
   "source": [
    "Para atender la anterior problemática se busca predecir el reingreso de los pacientes mediante el uso de  los siguientes algoritmos : \n",
    "\n",
    "- **Árboles de decisión** : su facilidad de interpretación nos permite determinar la causa raíz, con esto se puede elaborar estrategias más eficientes.\n",
    "- **Regresión Logística** : \n",
    "- **XG Boosting** : aunque su rendimiento computacional es pesado, nos podría arrojar predicciones más precisas \n",
    "- **Random Forest** : \n",
    "\n",
    "Además para predecir el posible diagnóstico de reingreso del pacientes se usara clustering \n",
    "\n"
   ]
  }
 ],
 "metadata": {
  "language_info": {
   "name": "python"
  }
 },
 "nbformat": 4,
 "nbformat_minor": 2
}
